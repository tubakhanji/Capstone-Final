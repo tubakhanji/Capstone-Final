{
    "cells": [
        {
            "cell_type": "markdown",
            "metadata": {
                "collapsed": true
            },
            "source": "# Capstone Project \u2013 The Battle of Neighborhoods | Finding a Better Place in Scarborough, Toronto\n## 1. Installing and Importing Python Libraries and Dependencies"
        },
        {
            "cell_type": "code",
            "execution_count": 1,
            "metadata": {},
            "outputs": [
                {
                    "name": "stdout",
                    "output_type": "stream",
                    "text": "Collecting geocoder\n\u001b[?25l  Downloading https://files.pythonhosted.org/packages/4f/6b/13166c909ad2f2d76b929a4227c952630ebaf0d729f6317eb09cbceccbab/geocoder-1.38.1-py2.py3-none-any.whl (98kB)\n\u001b[K     |\u2588\u2588\u2588\u2588\u2588\u2588\u2588\u2588\u2588\u2588\u2588\u2588\u2588\u2588\u2588\u2588\u2588\u2588\u2588\u2588\u2588\u2588\u2588\u2588\u2588\u2588\u2588\u2588\u2588\u2588\u2588\u2588| 102kB 8.6MB/s ta 0:00:011\n\u001b[?25hRequirement already satisfied: six in /opt/conda/envs/Python36/lib/python3.6/site-packages (from geocoder) (1.12.0)\nRequirement already satisfied: future in /opt/conda/envs/Python36/lib/python3.6/site-packages (from geocoder) (0.17.1)\nRequirement already satisfied: click in /opt/conda/envs/Python36/lib/python3.6/site-packages (from geocoder) (7.0)\nRequirement already satisfied: requests in /opt/conda/envs/Python36/lib/python3.6/site-packages (from geocoder) (2.21.0)\nCollecting ratelim (from geocoder)\n  Downloading https://files.pythonhosted.org/packages/f2/98/7e6d147fd16a10a5f821db6e25f192265d6ecca3d82957a4fdd592cad49c/ratelim-0.1.6-py2.py3-none-any.whl\nRequirement already satisfied: idna<2.9,>=2.5 in /opt/conda/envs/Python36/lib/python3.6/site-packages (from requests->geocoder) (2.8)\nRequirement already satisfied: urllib3<1.25,>=1.21.1 in /opt/conda/envs/Python36/lib/python3.6/site-packages (from requests->geocoder) (1.24.1)\nRequirement already satisfied: chardet<3.1.0,>=3.0.2 in /opt/conda/envs/Python36/lib/python3.6/site-packages (from requests->geocoder) (3.0.4)\nRequirement already satisfied: certifi>=2017.4.17 in /opt/conda/envs/Python36/lib/python3.6/site-packages (from requests->geocoder) (2020.6.20)\nRequirement already satisfied: decorator in /opt/conda/envs/Python36/lib/python3.6/site-packages (from ratelim->geocoder) (4.3.2)\nInstalling collected packages: ratelim, geocoder\nSuccessfully installed geocoder-1.38.1 ratelim-0.1.6\nCollecting folium\n\u001b[?25l  Downloading https://files.pythonhosted.org/packages/a4/f0/44e69d50519880287cc41e7c8a6acc58daa9a9acf5f6afc52bcc70f69a6d/folium-0.11.0-py2.py3-none-any.whl (93kB)\n\u001b[K     |\u2588\u2588\u2588\u2588\u2588\u2588\u2588\u2588\u2588\u2588\u2588\u2588\u2588\u2588\u2588\u2588\u2588\u2588\u2588\u2588\u2588\u2588\u2588\u2588\u2588\u2588\u2588\u2588\u2588\u2588\u2588\u2588| 102kB 7.0MB/s ta 0:00:011\n\u001b[?25hRequirement already satisfied: jinja2>=2.9 in /opt/conda/envs/Python36/lib/python3.6/site-packages (from folium) (2.10)\nRequirement already satisfied: requests in /opt/conda/envs/Python36/lib/python3.6/site-packages (from folium) (2.21.0)\nCollecting branca>=0.3.0 (from folium)\n  Downloading https://files.pythonhosted.org/packages/13/fb/9eacc24ba3216510c6b59a4ea1cd53d87f25ba76237d7f4393abeaf4c94e/branca-0.4.1-py3-none-any.whl\nRequirement already satisfied: numpy in /opt/conda/envs/Python36/lib/python3.6/site-packages (from folium) (1.15.4)\nRequirement already satisfied: MarkupSafe>=0.23 in /opt/conda/envs/Python36/lib/python3.6/site-packages (from jinja2>=2.9->folium) (1.1.0)\nRequirement already satisfied: chardet<3.1.0,>=3.0.2 in /opt/conda/envs/Python36/lib/python3.6/site-packages (from requests->folium) (3.0.4)\nRequirement already satisfied: idna<2.9,>=2.5 in /opt/conda/envs/Python36/lib/python3.6/site-packages (from requests->folium) (2.8)\nRequirement already satisfied: certifi>=2017.4.17 in /opt/conda/envs/Python36/lib/python3.6/site-packages (from requests->folium) (2020.6.20)\nRequirement already satisfied: urllib3<1.25,>=1.21.1 in /opt/conda/envs/Python36/lib/python3.6/site-packages (from requests->folium) (1.24.1)\nInstalling collected packages: branca, folium\nSuccessfully installed branca-0.4.1 folium-0.11.0\n"
                }
            ],
            "source": "!pip install geocoder\n!pip install folium"
        },
        {
            "cell_type": "code",
            "execution_count": 2,
            "metadata": {},
            "outputs": [
                {
                    "name": "stdout",
                    "output_type": "stream",
                    "text": "All Required Libraries Imported!\n"
                }
            ],
            "source": "import pandas as pd\nimport requests\nimport numpy as np\nimport geocoder\nimport folium\nimport requests \nimport matplotlib.cm as cm\nimport matplotlib.colors as colors\nimport json\nimport xml\nimport matplotlib.pyplot as plt\n%matplotlib inline\nimport warnings\nwarnings.filterwarnings(\"ignore\")\n\nfrom pandas.io.json import json_normalize \nfrom sklearn.cluster import KMeans\nfrom geopy.geocoders import Nominatim \nfrom bs4 import BeautifulSoup\n\npd.set_option('display.max_columns', None)\npd.set_option('display.max_rows', None)\n\nprint(\"All Required Libraries Imported!\")"
        },
        {
            "cell_type": "markdown",
            "metadata": {},
            "source": "## 2. Data Extraction and Cleaning\nUsing BeautifulSoup Scraping List of Postal Codes of Given Wikipedia Page. Link: https://en.wikipedia.org/wiki/List_of_postal_codes_of_Canada:_M"
        },
        {
            "cell_type": "code",
            "execution_count": 3,
            "metadata": {},
            "outputs": [],
            "source": "url = \"https://en.wikipedia.org/wiki/List_of_postal_codes_of_Canada:_M\"\nextracting_data = requests.get(url).text\nwiki_data = BeautifulSoup(extracting_data, 'lxml')"
        },
        {
            "cell_type": "code",
            "execution_count": 4,
            "metadata": {},
            "outputs": [],
            "source": "column_names = ['Postalcode','Borough','Neighborhood']\ntoronto = pd.DataFrame(columns = column_names)\n\ncontent = wiki_data.find('div', class_='mw-parser-output')\ntable = content.table.tbody\npostcode = 0\nborough = 0\nneighborhood = 0\n\nfor tr in table.find_all('tr'):\n    i = 0\n    for td in tr.find_all('td'):\n        if i == 0:\n            postcode = td.text\n            i = i + 1\n        elif i == 1:\n            borough = td.text\n            i = i + 1\n        elif i == 2: \n            neighborhood = td.text.strip('\\n').replace(']','')\n    toronto = toronto.append({'Postalcode': postcode,'Borough': borough,'Neighborhood': neighborhood},ignore_index=True)"
        },
        {
            "cell_type": "code",
            "execution_count": 5,
            "metadata": {},
            "outputs": [],
            "source": "# clean dataframe \ntoronto = toronto[toronto.Borough!='Not assigned']\ntoronto = toronto[toronto.Borough!= 0]\ntoronto.reset_index(drop = True, inplace = True)\ni = 0\nfor i in range(0,toronto.shape[0]):\n    if toronto.iloc[i][2] == 'Not assigned':\n        toronto.iloc[i][2] = toronto.iloc[i][1]\n        i = i+1"
        },
        {
            "cell_type": "code",
            "execution_count": 6,
            "metadata": {},
            "outputs": [
                {
                    "data": {
                        "text/html": "<div>\n<style scoped>\n    .dataframe tbody tr th:only-of-type {\n        vertical-align: middle;\n    }\n\n    .dataframe tbody tr th {\n        vertical-align: top;\n    }\n\n    .dataframe thead th {\n        text-align: right;\n    }\n</style>\n<table border=\"1\" class=\"dataframe\">\n  <thead>\n    <tr style=\"text-align: right;\">\n      <th></th>\n      <th>Postalcode</th>\n      <th>Borough</th>\n      <th>Neighborhood</th>\n    </tr>\n  </thead>\n  <tbody>\n    <tr>\n      <th>0</th>\n      <td>M1A\\n</td>\n      <td>Not assigned\\n</td>\n      <td>Not assigned\\n</td>\n    </tr>\n    <tr>\n      <th>1</th>\n      <td>M1B\\n</td>\n      <td>Scarborough\\n</td>\n      <td>Malvern, Rouge</td>\n    </tr>\n    <tr>\n      <th>2</th>\n      <td>M1C\\n</td>\n      <td>Scarborough\\n</td>\n      <td>Rouge Hill, Port Union, Highland Creek</td>\n    </tr>\n    <tr>\n      <th>3</th>\n      <td>M1E\\n</td>\n      <td>Scarborough\\n</td>\n      <td>Guildwood, Morningside, West Hill</td>\n    </tr>\n    <tr>\n      <th>4</th>\n      <td>M1G\\n</td>\n      <td>Scarborough\\n</td>\n      <td>Woburn</td>\n    </tr>\n  </tbody>\n</table>\n</div>",
                        "text/plain": "  Postalcode         Borough                            Neighborhood\n0      M1A\\n  Not assigned\\n                          Not assigned\\n\n1      M1B\\n   Scarborough\\n                          Malvern, Rouge\n2      M1C\\n   Scarborough\\n  Rouge Hill, Port Union, Highland Creek\n3      M1E\\n   Scarborough\\n       Guildwood, Morningside, West Hill\n4      M1G\\n   Scarborough\\n                                  Woburn"
                    },
                    "execution_count": 6,
                    "metadata": {},
                    "output_type": "execute_result"
                }
            ],
            "source": "df = toronto.groupby(['Postalcode','Borough'])['Neighborhood'].apply(', '.join).reset_index()\ndf.head()"
        },
        {
            "cell_type": "code",
            "execution_count": 7,
            "metadata": {},
            "outputs": [
                {
                    "data": {
                        "text/html": "<div>\n<style scoped>\n    .dataframe tbody tr th:only-of-type {\n        vertical-align: middle;\n    }\n\n    .dataframe tbody tr th {\n        vertical-align: top;\n    }\n\n    .dataframe thead th {\n        text-align: right;\n    }\n</style>\n<table border=\"1\" class=\"dataframe\">\n  <thead>\n    <tr style=\"text-align: right;\">\n      <th></th>\n      <th>Postalcode</th>\n      <th>Borough</th>\n      <th>Neighborhood</th>\n    </tr>\n  </thead>\n  <tbody>\n    <tr>\n      <th>count</th>\n      <td>180</td>\n      <td>180</td>\n      <td>180</td>\n    </tr>\n    <tr>\n      <th>unique</th>\n      <td>180</td>\n      <td>11</td>\n      <td>100</td>\n    </tr>\n    <tr>\n      <th>top</th>\n      <td>M2S\\n</td>\n      <td>Not assigned\\n</td>\n      <td>Not assigned\\n</td>\n    </tr>\n    <tr>\n      <th>freq</th>\n      <td>1</td>\n      <td>77</td>\n      <td>77</td>\n    </tr>\n  </tbody>\n</table>\n</div>",
                        "text/plain": "       Postalcode         Borough    Neighborhood\ncount         180             180             180\nunique        180              11             100\ntop         M2S\\n  Not assigned\\n  Not assigned\\n\nfreq            1              77              77"
                    },
                    "execution_count": 7,
                    "metadata": {},
                    "output_type": "execute_result"
                }
            ],
            "source": "df.describe()"
        },
        {
            "cell_type": "code",
            "execution_count": 8,
            "metadata": {},
            "outputs": [],
            "source": "df = df.dropna()\nempty = 'Not assigned'\ndf = df[(df.Postalcode != empty ) & (df.Borough != empty) & (df.Neighborhood != empty)]"
        },
        {
            "cell_type": "code",
            "execution_count": 9,
            "metadata": {},
            "outputs": [
                {
                    "data": {
                        "text/html": "<div>\n<style scoped>\n    .dataframe tbody tr th:only-of-type {\n        vertical-align: middle;\n    }\n\n    .dataframe tbody tr th {\n        vertical-align: top;\n    }\n\n    .dataframe thead th {\n        text-align: right;\n    }\n</style>\n<table border=\"1\" class=\"dataframe\">\n  <thead>\n    <tr style=\"text-align: right;\">\n      <th></th>\n      <th>Postalcode</th>\n      <th>Borough</th>\n      <th>Neighborhood</th>\n    </tr>\n  </thead>\n  <tbody>\n    <tr>\n      <th>0</th>\n      <td>M1A\\n</td>\n      <td>Not assigned\\n</td>\n      <td>Not assigned\\n</td>\n    </tr>\n    <tr>\n      <th>1</th>\n      <td>M1B\\n</td>\n      <td>Scarborough\\n</td>\n      <td>Malvern, Rouge</td>\n    </tr>\n    <tr>\n      <th>2</th>\n      <td>M1C\\n</td>\n      <td>Scarborough\\n</td>\n      <td>Rouge Hill, Port Union, Highland Creek</td>\n    </tr>\n    <tr>\n      <th>3</th>\n      <td>M1E\\n</td>\n      <td>Scarborough\\n</td>\n      <td>Guildwood, Morningside, West Hill</td>\n    </tr>\n    <tr>\n      <th>4</th>\n      <td>M1G\\n</td>\n      <td>Scarborough\\n</td>\n      <td>Woburn</td>\n    </tr>\n  </tbody>\n</table>\n</div>",
                        "text/plain": "  Postalcode         Borough                            Neighborhood\n0      M1A\\n  Not assigned\\n                          Not assigned\\n\n1      M1B\\n   Scarborough\\n                          Malvern, Rouge\n2      M1C\\n   Scarborough\\n  Rouge Hill, Port Union, Highland Creek\n3      M1E\\n   Scarborough\\n       Guildwood, Morningside, West Hill\n4      M1G\\n   Scarborough\\n                                  Woburn"
                    },
                    "execution_count": 9,
                    "metadata": {},
                    "output_type": "execute_result"
                }
            ],
            "source": "df.head()"
        },
        {
            "cell_type": "code",
            "execution_count": 10,
            "metadata": {},
            "outputs": [],
            "source": "def neighborhood_list(grouped):    \n    return ', '.join(sorted(grouped['Neighborhood'].tolist()))\n                    \ngrp = df.groupby(['Postalcode', 'Borough'])\ndf_2 = grp.apply(neighborhood_list).reset_index(name='Neighborhood')"
        },
        {
            "cell_type": "code",
            "execution_count": 11,
            "metadata": {},
            "outputs": [
                {
                    "data": {
                        "text/html": "<div>\n<style scoped>\n    .dataframe tbody tr th:only-of-type {\n        vertical-align: middle;\n    }\n\n    .dataframe tbody tr th {\n        vertical-align: top;\n    }\n\n    .dataframe thead th {\n        text-align: right;\n    }\n</style>\n<table border=\"1\" class=\"dataframe\">\n  <thead>\n    <tr style=\"text-align: right;\">\n      <th></th>\n      <th>Postalcode</th>\n      <th>Borough</th>\n      <th>Neighborhood</th>\n    </tr>\n  </thead>\n  <tbody>\n    <tr>\n      <th>count</th>\n      <td>180</td>\n      <td>180</td>\n      <td>180</td>\n    </tr>\n    <tr>\n      <th>unique</th>\n      <td>180</td>\n      <td>11</td>\n      <td>100</td>\n    </tr>\n    <tr>\n      <th>top</th>\n      <td>M2S\\n</td>\n      <td>Not assigned\\n</td>\n      <td>Not assigned\\n</td>\n    </tr>\n    <tr>\n      <th>freq</th>\n      <td>1</td>\n      <td>77</td>\n      <td>77</td>\n    </tr>\n  </tbody>\n</table>\n</div>",
                        "text/plain": "       Postalcode         Borough    Neighborhood\ncount         180             180             180\nunique        180              11             100\ntop         M2S\\n  Not assigned\\n  Not assigned\\n\nfreq            1              77              77"
                    },
                    "execution_count": 11,
                    "metadata": {},
                    "output_type": "execute_result"
                }
            ],
            "source": "df_2.describe()"
        },
        {
            "cell_type": "code",
            "execution_count": 12,
            "metadata": {},
            "outputs": [
                {
                    "name": "stdout",
                    "output_type": "stream",
                    "text": "(180, 3)\n"
                },
                {
                    "data": {
                        "text/html": "<div>\n<style scoped>\n    .dataframe tbody tr th:only-of-type {\n        vertical-align: middle;\n    }\n\n    .dataframe tbody tr th {\n        vertical-align: top;\n    }\n\n    .dataframe thead th {\n        text-align: right;\n    }\n</style>\n<table border=\"1\" class=\"dataframe\">\n  <thead>\n    <tr style=\"text-align: right;\">\n      <th></th>\n      <th>Postalcode</th>\n      <th>Borough</th>\n      <th>Neighborhood</th>\n    </tr>\n  </thead>\n  <tbody>\n    <tr>\n      <th>0</th>\n      <td>M1A\\n</td>\n      <td>Not assigned\\n</td>\n      <td>Not assigned\\n</td>\n    </tr>\n    <tr>\n      <th>1</th>\n      <td>M1B\\n</td>\n      <td>Scarborough\\n</td>\n      <td>Malvern, Rouge</td>\n    </tr>\n    <tr>\n      <th>2</th>\n      <td>M1C\\n</td>\n      <td>Scarborough\\n</td>\n      <td>Rouge Hill, Port Union, Highland Creek</td>\n    </tr>\n    <tr>\n      <th>3</th>\n      <td>M1E\\n</td>\n      <td>Scarborough\\n</td>\n      <td>Guildwood, Morningside, West Hill</td>\n    </tr>\n    <tr>\n      <th>4</th>\n      <td>M1G\\n</td>\n      <td>Scarborough\\n</td>\n      <td>Woburn</td>\n    </tr>\n  </tbody>\n</table>\n</div>",
                        "text/plain": "  Postalcode         Borough                            Neighborhood\n0      M1A\\n  Not assigned\\n                          Not assigned\\n\n1      M1B\\n   Scarborough\\n                          Malvern, Rouge\n2      M1C\\n   Scarborough\\n  Rouge Hill, Port Union, Highland Creek\n3      M1E\\n   Scarborough\\n       Guildwood, Morningside, West Hill\n4      M1G\\n   Scarborough\\n                                  Woburn"
                    },
                    "execution_count": 12,
                    "metadata": {},
                    "output_type": "execute_result"
                }
            ],
            "source": "print(df_2.shape)\ndf_2.head()"
        },
        {
            "cell_type": "code",
            "execution_count": 13,
            "metadata": {},
            "outputs": [
                {
                    "data": {
                        "text/plain": "[43.70909000000006, -79.36409999999995]"
                    },
                    "execution_count": 13,
                    "metadata": {},
                    "output_type": "execute_result"
                }
            ],
            "source": "def get_latilong(postal_code):\n    lati_long_coords = None\n    while(lati_long_coords is None):\n        g = geocoder.arcgis('{}, Toronto, Ontario'.format(postal_code))\n        lati_long_coords = g.latlng\n    return lati_long_coords\n    \nget_latilong('M4G')"
        },
        {
            "cell_type": "code",
            "execution_count": 20,
            "metadata": {},
            "outputs": [
                {
                    "data": {
                        "text/html": "<div>\n<style scoped>\n    .dataframe tbody tr th:only-of-type {\n        vertical-align: middle;\n    }\n\n    .dataframe tbody tr th {\n        vertical-align: top;\n    }\n\n    .dataframe thead th {\n        text-align: right;\n    }\n</style>\n<table border=\"1\" class=\"dataframe\">\n  <thead>\n    <tr style=\"text-align: right;\">\n      <th></th>\n      <th>Postalcode</th>\n      <th>Borough</th>\n      <th>Neighborhood</th>\n    </tr>\n  </thead>\n  <tbody>\n  </tbody>\n</table>\n</div>",
                        "text/plain": "Empty DataFrame\nColumns: [Postalcode, Borough, Neighborhood]\nIndex: []"
                    },
                    "execution_count": 20,
                    "metadata": {},
                    "output_type": "execute_result"
                }
            ],
            "source": "df_2[df_2.Postalcode == 'M5G']"
        },
        {
            "cell_type": "code",
            "execution_count": 21,
            "metadata": {},
            "outputs": [
                {
                    "data": {
                        "text/html": "<div>\n<style scoped>\n    .dataframe tbody tr th:only-of-type {\n        vertical-align: middle;\n    }\n\n    .dataframe tbody tr th {\n        vertical-align: top;\n    }\n\n    .dataframe thead th {\n        text-align: right;\n    }\n</style>\n<table border=\"1\" class=\"dataframe\">\n  <thead>\n    <tr style=\"text-align: right;\">\n      <th></th>\n      <th>Postalcode</th>\n      <th>Borough</th>\n      <th>Neighborhood</th>\n    </tr>\n  </thead>\n  <tbody>\n    <tr>\n      <th>0</th>\n      <td>M1A\\n</td>\n      <td>Not assigned\\n</td>\n      <td>Not assigned\\n</td>\n    </tr>\n    <tr>\n      <th>1</th>\n      <td>M1B\\n</td>\n      <td>Scarborough\\n</td>\n      <td>Malvern, Rouge</td>\n    </tr>\n    <tr>\n      <th>2</th>\n      <td>M1C\\n</td>\n      <td>Scarborough\\n</td>\n      <td>Rouge Hill, Port Union, Highland Creek</td>\n    </tr>\n    <tr>\n      <th>3</th>\n      <td>M1E\\n</td>\n      <td>Scarborough\\n</td>\n      <td>Guildwood, Morningside, West Hill</td>\n    </tr>\n    <tr>\n      <th>4</th>\n      <td>M1G\\n</td>\n      <td>Scarborough\\n</td>\n      <td>Woburn</td>\n    </tr>\n    <tr>\n      <th>5</th>\n      <td>M1H\\n</td>\n      <td>Scarborough\\n</td>\n      <td>Cedarbrae</td>\n    </tr>\n    <tr>\n      <th>6</th>\n      <td>M1J\\n</td>\n      <td>Scarborough\\n</td>\n      <td>Scarborough Village</td>\n    </tr>\n    <tr>\n      <th>7</th>\n      <td>M1K\\n</td>\n      <td>Scarborough\\n</td>\n      <td>Kennedy Park, Ionview, East Birchmount Park</td>\n    </tr>\n    <tr>\n      <th>8</th>\n      <td>M1L\\n</td>\n      <td>Scarborough\\n</td>\n      <td>Golden Mile, Clairlea, Oakridge</td>\n    </tr>\n    <tr>\n      <th>9</th>\n      <td>M1M\\n</td>\n      <td>Scarborough\\n</td>\n      <td>Cliffside, Cliffcrest, Scarborough Village West</td>\n    </tr>\n  </tbody>\n</table>\n</div>",
                        "text/plain": "  Postalcode         Borough                                     Neighborhood\n0      M1A\\n  Not assigned\\n                                   Not assigned\\n\n1      M1B\\n   Scarborough\\n                                   Malvern, Rouge\n2      M1C\\n   Scarborough\\n           Rouge Hill, Port Union, Highland Creek\n3      M1E\\n   Scarborough\\n                Guildwood, Morningside, West Hill\n4      M1G\\n   Scarborough\\n                                           Woburn\n5      M1H\\n   Scarborough\\n                                        Cedarbrae\n6      M1J\\n   Scarborough\\n                              Scarborough Village\n7      M1K\\n   Scarborough\\n      Kennedy Park, Ionview, East Birchmount Park\n8      M1L\\n   Scarborough\\n                  Golden Mile, Clairlea, Oakridge\n9      M1M\\n   Scarborough\\n  Cliffside, Cliffcrest, Scarborough Village West"
                    },
                    "execution_count": 21,
                    "metadata": {},
                    "output_type": "execute_result"
                }
            ],
            "source": "df_2.head(10)"
        },
        {
            "cell_type": "code",
            "execution_count": 22,
            "metadata": {},
            "outputs": [
                {
                    "name": "stdout",
                    "output_type": "stream",
                    "text": "The Geograpical Co-ordinate of Seattle,Washington are 43.773077, -79.257774.\n"
                }
            ],
            "source": "address = 'Scarborough,Toronto'\n\ngeolocator = Nominatim()\nlocation = geolocator.geocode(address)\nlatitude_x = location.latitude\nlongitude_y = location.longitude\nprint('The Geograpical Co-ordinate of Seattle,Washington are {}, {}.'.format(latitude_x, longitude_y))"
        },
        {
            "cell_type": "markdown",
            "metadata": {},
            "source": "## 3. Map of Scarborough"
        },
        {
            "cell_type": "code",
            "execution_count": 24,
            "metadata": {},
            "outputs": [
                {
                    "ename": "KeyError",
                    "evalue": "'Latitude'",
                    "output_type": "error",
                    "traceback": [
                        "\u001b[0;31m---------------------------------------------------------------------------\u001b[0m",
                        "\u001b[0;31mKeyError\u001b[0m                                  Traceback (most recent call last)",
                        "\u001b[0;32m/opt/conda/envs/Python36/lib/python3.6/site-packages/pandas/core/indexes/base.py\u001b[0m in \u001b[0;36mget_loc\u001b[0;34m(self, key, method, tolerance)\u001b[0m\n\u001b[1;32m   2655\u001b[0m             \u001b[0;32mtry\u001b[0m\u001b[0;34m:\u001b[0m\u001b[0;34m\u001b[0m\u001b[0;34m\u001b[0m\u001b[0m\n\u001b[0;32m-> 2656\u001b[0;31m                 \u001b[0;32mreturn\u001b[0m \u001b[0mself\u001b[0m\u001b[0;34m.\u001b[0m\u001b[0m_engine\u001b[0m\u001b[0;34m.\u001b[0m\u001b[0mget_loc\u001b[0m\u001b[0;34m(\u001b[0m\u001b[0mkey\u001b[0m\u001b[0;34m)\u001b[0m\u001b[0;34m\u001b[0m\u001b[0;34m\u001b[0m\u001b[0m\n\u001b[0m\u001b[1;32m   2657\u001b[0m             \u001b[0;32mexcept\u001b[0m \u001b[0mKeyError\u001b[0m\u001b[0;34m:\u001b[0m\u001b[0;34m\u001b[0m\u001b[0;34m\u001b[0m\u001b[0m\n",
                        "\u001b[0;32mpandas/_libs/index.pyx\u001b[0m in \u001b[0;36mpandas._libs.index.IndexEngine.get_loc\u001b[0;34m()\u001b[0m\n",
                        "\u001b[0;32mpandas/_libs/index.pyx\u001b[0m in \u001b[0;36mpandas._libs.index.IndexEngine.get_loc\u001b[0;34m()\u001b[0m\n",
                        "\u001b[0;32mpandas/_libs/hashtable_class_helper.pxi\u001b[0m in \u001b[0;36mpandas._libs.hashtable.PyObjectHashTable.get_item\u001b[0;34m()\u001b[0m\n",
                        "\u001b[0;32mpandas/_libs/hashtable_class_helper.pxi\u001b[0m in \u001b[0;36mpandas._libs.hashtable.PyObjectHashTable.get_item\u001b[0;34m()\u001b[0m\n",
                        "\u001b[0;31mKeyError\u001b[0m: 'Latitude'",
                        "\nDuring handling of the above exception, another exception occurred:\n",
                        "\u001b[0;31mKeyError\u001b[0m                                  Traceback (most recent call last)",
                        "\u001b[0;32m<ipython-input-24-b997d78a983d>\u001b[0m in \u001b[0;36m<module>\u001b[0;34m\u001b[0m\n\u001b[1;32m      1\u001b[0m \u001b[0mmap_Scarborough\u001b[0m \u001b[0;34m=\u001b[0m \u001b[0mfolium\u001b[0m\u001b[0;34m.\u001b[0m\u001b[0mMap\u001b[0m\u001b[0;34m(\u001b[0m\u001b[0mlocation\u001b[0m\u001b[0;34m=\u001b[0m\u001b[0;34m[\u001b[0m\u001b[0mlatitude_x\u001b[0m\u001b[0;34m,\u001b[0m \u001b[0mlongitude_y\u001b[0m\u001b[0;34m]\u001b[0m\u001b[0;34m,\u001b[0m \u001b[0mzoom_start\u001b[0m\u001b[0;34m=\u001b[0m\u001b[0;36m10\u001b[0m\u001b[0;34m)\u001b[0m\u001b[0;34m\u001b[0m\u001b[0;34m\u001b[0m\u001b[0m\n\u001b[1;32m      2\u001b[0m \u001b[0;34m\u001b[0m\u001b[0m\n\u001b[0;32m----> 3\u001b[0;31m \u001b[0;32mfor\u001b[0m \u001b[0mlat\u001b[0m\u001b[0;34m,\u001b[0m \u001b[0mlng\u001b[0m\u001b[0;34m,\u001b[0m \u001b[0mnei\u001b[0m \u001b[0;32min\u001b[0m \u001b[0mzip\u001b[0m\u001b[0;34m(\u001b[0m\u001b[0mdf_2\u001b[0m\u001b[0;34m[\u001b[0m\u001b[0;34m'Latitude'\u001b[0m\u001b[0;34m]\u001b[0m\u001b[0;34m,\u001b[0m \u001b[0mdf_2\u001b[0m\u001b[0;34m[\u001b[0m\u001b[0;34m'Longitude'\u001b[0m\u001b[0;34m]\u001b[0m\u001b[0;34m,\u001b[0m \u001b[0mdf_2\u001b[0m\u001b[0;34m[\u001b[0m\u001b[0;34m'Neighborhood'\u001b[0m\u001b[0;34m]\u001b[0m\u001b[0;34m)\u001b[0m\u001b[0;34m:\u001b[0m\u001b[0;34m\u001b[0m\u001b[0;34m\u001b[0m\u001b[0m\n\u001b[0m\u001b[1;32m      4\u001b[0m \u001b[0;34m\u001b[0m\u001b[0m\n\u001b[1;32m      5\u001b[0m     \u001b[0mlabel\u001b[0m \u001b[0;34m=\u001b[0m \u001b[0;34m'{}'\u001b[0m\u001b[0;34m.\u001b[0m\u001b[0mformat\u001b[0m\u001b[0;34m(\u001b[0m\u001b[0mnei\u001b[0m\u001b[0;34m)\u001b[0m\u001b[0;34m\u001b[0m\u001b[0;34m\u001b[0m\u001b[0m\n",
                        "\u001b[0;32m/opt/conda/envs/Python36/lib/python3.6/site-packages/pandas/core/frame.py\u001b[0m in \u001b[0;36m__getitem__\u001b[0;34m(self, key)\u001b[0m\n\u001b[1;32m   2925\u001b[0m             \u001b[0;32mif\u001b[0m \u001b[0mself\u001b[0m\u001b[0;34m.\u001b[0m\u001b[0mcolumns\u001b[0m\u001b[0;34m.\u001b[0m\u001b[0mnlevels\u001b[0m \u001b[0;34m>\u001b[0m \u001b[0;36m1\u001b[0m\u001b[0;34m:\u001b[0m\u001b[0;34m\u001b[0m\u001b[0;34m\u001b[0m\u001b[0m\n\u001b[1;32m   2926\u001b[0m                 \u001b[0;32mreturn\u001b[0m \u001b[0mself\u001b[0m\u001b[0;34m.\u001b[0m\u001b[0m_getitem_multilevel\u001b[0m\u001b[0;34m(\u001b[0m\u001b[0mkey\u001b[0m\u001b[0;34m)\u001b[0m\u001b[0;34m\u001b[0m\u001b[0;34m\u001b[0m\u001b[0m\n\u001b[0;32m-> 2927\u001b[0;31m             \u001b[0mindexer\u001b[0m \u001b[0;34m=\u001b[0m \u001b[0mself\u001b[0m\u001b[0;34m.\u001b[0m\u001b[0mcolumns\u001b[0m\u001b[0;34m.\u001b[0m\u001b[0mget_loc\u001b[0m\u001b[0;34m(\u001b[0m\u001b[0mkey\u001b[0m\u001b[0;34m)\u001b[0m\u001b[0;34m\u001b[0m\u001b[0;34m\u001b[0m\u001b[0m\n\u001b[0m\u001b[1;32m   2928\u001b[0m             \u001b[0;32mif\u001b[0m \u001b[0mis_integer\u001b[0m\u001b[0;34m(\u001b[0m\u001b[0mindexer\u001b[0m\u001b[0;34m)\u001b[0m\u001b[0;34m:\u001b[0m\u001b[0;34m\u001b[0m\u001b[0;34m\u001b[0m\u001b[0m\n\u001b[1;32m   2929\u001b[0m                 \u001b[0mindexer\u001b[0m \u001b[0;34m=\u001b[0m \u001b[0;34m[\u001b[0m\u001b[0mindexer\u001b[0m\u001b[0;34m]\u001b[0m\u001b[0;34m\u001b[0m\u001b[0;34m\u001b[0m\u001b[0m\n",
                        "\u001b[0;32m/opt/conda/envs/Python36/lib/python3.6/site-packages/pandas/core/indexes/base.py\u001b[0m in \u001b[0;36mget_loc\u001b[0;34m(self, key, method, tolerance)\u001b[0m\n\u001b[1;32m   2656\u001b[0m                 \u001b[0;32mreturn\u001b[0m \u001b[0mself\u001b[0m\u001b[0;34m.\u001b[0m\u001b[0m_engine\u001b[0m\u001b[0;34m.\u001b[0m\u001b[0mget_loc\u001b[0m\u001b[0;34m(\u001b[0m\u001b[0mkey\u001b[0m\u001b[0;34m)\u001b[0m\u001b[0;34m\u001b[0m\u001b[0;34m\u001b[0m\u001b[0m\n\u001b[1;32m   2657\u001b[0m             \u001b[0;32mexcept\u001b[0m \u001b[0mKeyError\u001b[0m\u001b[0;34m:\u001b[0m\u001b[0;34m\u001b[0m\u001b[0;34m\u001b[0m\u001b[0m\n\u001b[0;32m-> 2658\u001b[0;31m                 \u001b[0;32mreturn\u001b[0m \u001b[0mself\u001b[0m\u001b[0;34m.\u001b[0m\u001b[0m_engine\u001b[0m\u001b[0;34m.\u001b[0m\u001b[0mget_loc\u001b[0m\u001b[0;34m(\u001b[0m\u001b[0mself\u001b[0m\u001b[0;34m.\u001b[0m\u001b[0m_maybe_cast_indexer\u001b[0m\u001b[0;34m(\u001b[0m\u001b[0mkey\u001b[0m\u001b[0;34m)\u001b[0m\u001b[0;34m)\u001b[0m\u001b[0;34m\u001b[0m\u001b[0;34m\u001b[0m\u001b[0m\n\u001b[0m\u001b[1;32m   2659\u001b[0m         \u001b[0mindexer\u001b[0m \u001b[0;34m=\u001b[0m \u001b[0mself\u001b[0m\u001b[0;34m.\u001b[0m\u001b[0mget_indexer\u001b[0m\u001b[0;34m(\u001b[0m\u001b[0;34m[\u001b[0m\u001b[0mkey\u001b[0m\u001b[0;34m]\u001b[0m\u001b[0;34m,\u001b[0m \u001b[0mmethod\u001b[0m\u001b[0;34m=\u001b[0m\u001b[0mmethod\u001b[0m\u001b[0;34m,\u001b[0m \u001b[0mtolerance\u001b[0m\u001b[0;34m=\u001b[0m\u001b[0mtolerance\u001b[0m\u001b[0;34m)\u001b[0m\u001b[0;34m\u001b[0m\u001b[0;34m\u001b[0m\u001b[0m\n\u001b[1;32m   2660\u001b[0m         \u001b[0;32mif\u001b[0m \u001b[0mindexer\u001b[0m\u001b[0;34m.\u001b[0m\u001b[0mndim\u001b[0m \u001b[0;34m>\u001b[0m \u001b[0;36m1\u001b[0m \u001b[0;32mor\u001b[0m \u001b[0mindexer\u001b[0m\u001b[0;34m.\u001b[0m\u001b[0msize\u001b[0m \u001b[0;34m>\u001b[0m \u001b[0;36m1\u001b[0m\u001b[0;34m:\u001b[0m\u001b[0;34m\u001b[0m\u001b[0;34m\u001b[0m\u001b[0m\n",
                        "\u001b[0;32mpandas/_libs/index.pyx\u001b[0m in \u001b[0;36mpandas._libs.index.IndexEngine.get_loc\u001b[0;34m()\u001b[0m\n",
                        "\u001b[0;32mpandas/_libs/index.pyx\u001b[0m in \u001b[0;36mpandas._libs.index.IndexEngine.get_loc\u001b[0;34m()\u001b[0m\n",
                        "\u001b[0;32mpandas/_libs/hashtable_class_helper.pxi\u001b[0m in \u001b[0;36mpandas._libs.hashtable.PyObjectHashTable.get_item\u001b[0;34m()\u001b[0m\n",
                        "\u001b[0;32mpandas/_libs/hashtable_class_helper.pxi\u001b[0m in \u001b[0;36mpandas._libs.hashtable.PyObjectHashTable.get_item\u001b[0;34m()\u001b[0m\n",
                        "\u001b[0;31mKeyError\u001b[0m: 'Latitude'"
                    ]
                }
            ],
            "source": "map_Scarborough = folium.Map(location=[latitude_x, longitude_y], zoom_start=10)\n\nfor lat, lng, nei in zip(df_2['Latitude'], df_2['Longitude'], df_2['Neighborhood']):\n    \n    label = '{}'.format(nei)\n    label = folium.Popup(label, parse_html=True)\n    folium.CircleMarker(\n        [lat, lng],\n        radius=5,\n        popup=label,\n        color='blue',\n        fill=True,\n        fill_color='#3186cc',\n        fill_opacity=0.7,\n        parse_html=False).add_to(map_Scarborough)  \n    \nmap_Scarborough"
        },
        {
            "cell_type": "code",
            "execution_count": 25,
            "metadata": {},
            "outputs": [
                {
                    "name": "stdout",
                    "output_type": "stream",
                    "text": "The Geograpical Co-ordinate of Neighborhood_1 are 43.773077, -79.257774.\n"
                }
            ],
            "source": "address = 'Scarborough,Toronto'\n\ngeolocator = Nominatim()\nlocation = geolocator.geocode(address)\nlatitude_n1 = location.latitude\nlongitude_n1 = location.longitude\nprint('The Geograpical Co-ordinate of Neighborhood_1 are {}, {}.'.format(latitude_x, longitude_y))"
        },
        {
            "cell_type": "code",
            "execution_count": 26,
            "metadata": {},
            "outputs": [
                {
                    "name": "stdout",
                    "output_type": "stream",
                    "text": "Your credentails:\nCLIENT_ID: DPBYY4JUY3DU20ALPSUV4ONY2K1GOJJKJ1NIHBB32XEMOVYY\nCLIENT_SECRET: 1MV443TYEP4HUO0WDUW5NQ5W10L2Y4G05NWG11WIR3NUGC5B\n"
                }
            ],
            "source": "# @hiddel_cell\nCLIENT_ID = 'DPBYY4JUY3DU20ALPSUV4ONY2K1GOJJKJ1NIHBB32XEMOVYY' # my Foursquare ID\nCLIENT_SECRET = '1MV443TYEP4HUO0WDUW5NQ5W10L2Y4G05NWG11WIR3NUGC5B' # my Foursquare Secret\nVERSION = '20180604'\nLIMIT = 30\nprint('Your credentails:')\nprint('CLIENT_ID: '+CLIENT_ID)\nprint('CLIENT_SECRET: '+CLIENT_SECRET)"
        },
        {
            "cell_type": "code",
            "execution_count": 27,
            "metadata": {},
            "outputs": [],
            "source": "radius = 700 \nLIMIT = 100\nurl = 'https://api.foursquare.com/v2/venues/explore?&client_id={}&client_secret={}&v={}&ll={},{}&radius={}&limit={}'.format(\n    CLIENT_ID, \n    CLIENT_SECRET, \n    VERSION, \n    latitude_n1, \n   longitude_n1, \n    radius, \n   LIMIT)\nresults = requests.get(url).json()"
        },
        {
            "cell_type": "code",
            "execution_count": 28,
            "metadata": {},
            "outputs": [
                {
                    "data": {
                        "text/plain": "Index(['reasons.count', 'reasons.items', 'referralId', 'venue.categories',\n       'venue.id', 'venue.location.address', 'venue.location.cc',\n       'venue.location.city', 'venue.location.country',\n       'venue.location.crossStreet', 'venue.location.distance',\n       'venue.location.formattedAddress', 'venue.location.labeledLatLngs',\n       'venue.location.lat', 'venue.location.lng',\n       'venue.location.neighborhood', 'venue.location.postalCode',\n       'venue.location.state', 'venue.name', 'venue.photos.count',\n       'venue.photos.groups', 'venue.venuePage.id'],\n      dtype='object')"
                    },
                    "execution_count": 28,
                    "metadata": {},
                    "output_type": "execute_result"
                }
            ],
            "source": "venues=results['response']['groups'][0]['items']\nnearby_venues = json_normalize(venues)\nnearby_venues.columns"
        },
        {
            "cell_type": "code",
            "execution_count": 29,
            "metadata": {},
            "outputs": [],
            "source": "def get_category_type(row):\n    try:\n        categories_list = row['categories']\n    except:\n        categories_list = row['venue.categories']\n        \n    if len(categories_list) == 0:\n        return None\n    else:\n        return categories_list[0]['name']"
        },
        {
            "cell_type": "markdown",
            "metadata": {},
            "source": "## 4. Nearby Venues/Locations"
        },
        {
            "cell_type": "code",
            "execution_count": 30,
            "metadata": {},
            "outputs": [
                {
                    "data": {
                        "text/html": "<div>\n<style scoped>\n    .dataframe tbody tr th:only-of-type {\n        vertical-align: middle;\n    }\n\n    .dataframe tbody tr th {\n        vertical-align: top;\n    }\n\n    .dataframe thead th {\n        text-align: right;\n    }\n</style>\n<table border=\"1\" class=\"dataframe\">\n  <thead>\n    <tr style=\"text-align: right;\">\n      <th></th>\n      <th>venue.name</th>\n      <th>venue.categories</th>\n      <th>venue.location.lat</th>\n      <th>venue.location.lng</th>\n    </tr>\n  </thead>\n  <tbody>\n    <tr>\n      <th>0</th>\n      <td>SEPHORA</td>\n      <td>[{'id': '4bf58dd8d48988d10c951735', 'name': 'C...</td>\n      <td>43.775017</td>\n      <td>-79.258109</td>\n    </tr>\n    <tr>\n      <th>1</th>\n      <td>Disney Store</td>\n      <td>[{'id': '4bf58dd8d48988d1f3941735', 'name': 'T...</td>\n      <td>43.775537</td>\n      <td>-79.256833</td>\n    </tr>\n    <tr>\n      <th>2</th>\n      <td>American Eagle Store</td>\n      <td>[{'id': '4bf58dd8d48988d103951735', 'name': 'C...</td>\n      <td>43.776012</td>\n      <td>-79.258334</td>\n    </tr>\n    <tr>\n      <th>3</th>\n      <td>St. Andrews Fish &amp; Chips</td>\n      <td>[{'id': '4edd64a0c7ddd24ca188df1a', 'name': 'F...</td>\n      <td>43.771865</td>\n      <td>-79.252645</td>\n    </tr>\n    <tr>\n      <th>4</th>\n      <td>Hot Topic</td>\n      <td>[{'id': '4bf58dd8d48988d103951735', 'name': 'C...</td>\n      <td>43.775450</td>\n      <td>-79.257929</td>\n    </tr>\n  </tbody>\n</table>\n</div>",
                        "text/plain": "                 venue.name  \\\n0                   SEPHORA   \n1              Disney Store   \n2      American Eagle Store   \n3  St. Andrews Fish & Chips   \n4                 Hot Topic   \n\n                                    venue.categories  venue.location.lat  \\\n0  [{'id': '4bf58dd8d48988d10c951735', 'name': 'C...           43.775017   \n1  [{'id': '4bf58dd8d48988d1f3941735', 'name': 'T...           43.775537   \n2  [{'id': '4bf58dd8d48988d103951735', 'name': 'C...           43.776012   \n3  [{'id': '4edd64a0c7ddd24ca188df1a', 'name': 'F...           43.771865   \n4  [{'id': '4bf58dd8d48988d103951735', 'name': 'C...           43.775450   \n\n   venue.location.lng  \n0          -79.258109  \n1          -79.256833  \n2          -79.258334  \n3          -79.252645  \n4          -79.257929  "
                    },
                    "execution_count": 30,
                    "metadata": {},
                    "output_type": "execute_result"
                }
            ],
            "source": "filtered_columns = ['venue.name', 'venue.categories', 'venue.location.lat', 'venue.location.lng']\nnearby_venues =nearby_venues.loc[:, filtered_columns]\nnearby_venues.head()"
        },
        {
            "cell_type": "code",
            "execution_count": null,
            "metadata": {},
            "outputs": [],
            "source": ""
        }
    ],
    "metadata": {
        "kernelspec": {
            "display_name": "Python 3.6",
            "language": "python",
            "name": "python3"
        },
        "language_info": {
            "codemirror_mode": {
                "name": "ipython",
                "version": 3
            },
            "file_extension": ".py",
            "mimetype": "text/x-python",
            "name": "python",
            "nbconvert_exporter": "python",
            "pygments_lexer": "ipython3",
            "version": "3.6.9"
        }
    },
    "nbformat": 4,
    "nbformat_minor": 1
}